{
 "cells": [
  {
   "cell_type": "code",
   "execution_count": 1,
   "metadata": {},
   "outputs": [],
   "source": [
    "import numpy as np \n",
    "import pandas as pd \n",
    "import geopandas as gpd\n",
    "import shapely as shp\n",
    "from shapely.geometry import Point\n",
    "from sklearn.neighbors import NearestNeighbors\n",
    "from shapely.ops import nearest_points\n",
    "\"\"\"\n",
    "GLOBAL VARIABLES\n",
    "\"\"\"\n",
    "COUNTY_SHP_FILE = \"data/UScounties/UScounties.shp\"\n",
    "BANNED_STATES = ['Arkansas','Alabama','Idaho','Kentucky','Louisiana','Kentucky','Mississippi','Missouri','Oklahoma','South Dakota','Tenesee','Texas','West Virginia','Wisconsin']\n",
    "\n",
    "EPSG = 4326"
   ]
  },
  {
   "cell_type": "code",
   "execution_count": 2,
   "metadata": {},
   "outputs": [],
   "source": [
    "\n",
    "\"\"\"load_state_bounds(): given a shp file of county locations, return a GeoDataFrame with the states as rows\n",
    "    input:\n",
    "        COUNTY_SHP_FILE<str>: the path to a shp file containing us county data\n",
    "        EPSG: the ESPG id of the coordinate reference system to use\n",
    "\"\"\"\n",
    "def load_state_bounds(COUNTY_SHP_FILE,EPSG=4326):\n",
    "    df_county = gpd.read_file(COUNTY_SHP_FILE)\n",
    "    df_county = df_county.to_crs(f\"EPSG:{EPSG}\")\n",
    "    df_county = df_county[~df_county['STATE_NAME'].isin(['Alaska','Hawaii'])]#remove Alaska and Hawai\n",
    "    df_state = df_county.dissolve(by = \"STATE_NAME\")['geometry'].reset_index()#[['STATE_NAME','geometry']]#aggregate by stateI\n",
    "    return df_state\n",
    "\n",
    "\"\"\"\n",
    "random_points_within_polygon(); raturns a list of n points within a given polygon\n",
    "    inputs: \n",
    "        polygon<Shapley.geometry.polygon>: a polygon from which to generate points inaside of \n",
    "        number<int>: the number of points to generate\n",
    "    output:\n",
    "        points<list{Shapley.geometry.Points}: a list of points randomly distributed within the polygon\n",
    "\"\"\"\n",
    "def random_points_within_polygon(polygon,number):\n",
    "    points = []\n",
    "    minx,miny,maxx,maxy = polygon.bounds\n",
    "    while len(points) <  number:\n",
    "        pnt = Point(np.random.uniform(minx,maxx),np.random.uniform(miny,maxy))\n",
    "        if polygon.contains(pnt):\n",
    "            points.append(pnt)\n",
    "    return gpd.GeoDataFrame(geometry=points)\n",
    "\n",
    "\n",
    "def nearest(row,geom_union,df1,df2,geom1_col = 'geometry',geom2_col = 'geometry',src_column = None):\n",
    "    #find the geometry that is closest\n",
    "    test = row[geom1_col] \n",
    "    print(\"Hello\")\n",
    "    nearest = df2[geom2_col] == nearest_points(row[geom1_col],geom_union)[1]\n",
    "    print(\"neatest_complete\")\n",
    "    value = df2[nearest][src_column].get_values()[0]\n",
    "    return value"
   ]
  },
  {
   "cell_type": "code",
   "execution_count": 3,
   "metadata": {},
   "outputs": [
    {
     "name": "stderr",
     "output_type": "stream",
     "text": [
      "/Users/willthompson/miniconda3/envs/myenv/lib/python3.9/site-packages/geopandas/array.py:275: ShapelyDeprecationWarning: The array interface is deprecated and will no longer work in Shapely 2.0. Convert the '.coords' to a numpy array instead.\n",
      "  return GeometryArray(vectorized.points_from_xy(x, y, z), crs=crs)\n"
     ]
    }
   ],
   "source": [
    "#load county data \n",
    "df_pop = pd.read_csv(\"data/simulated_pop_points.csv\")\n",
    "gdf_pop = gpd.GeoDataFrame(df_pop,geometry = gpd.points_from_xy(df_pop.lon,df_pop.lat))\n",
    "#load state boundaries\n",
    "df_state = load_state_bounds(COUNTY_SHP_FILE)\n",
    "df_state_legal = df_state[~df_state['STATE_NAME'].isin(BANNED_STATES)]\n",
    "us_border = df_state.dissolve().geometry.values[0]#extract shapley polygons from dataframe\n",
    "us_legal_border = df_state.dissolve().geometry.values[0]#extract shapley polygon from dataframe\n",
    "\n",
    "fac_placements_df = random_points_within_polygon(us_border,100).reset_index()"
   ]
  },
  {
   "cell_type": "code",
   "execution_count": 43,
   "metadata": {},
   "outputs": [],
   "source": [
    "unary_union = fac_placements_df.unary_union\n",
    "gdf_pop.apply(nearest,geom_union = unary_union,df1=gdf_pop,df2=fac_placements_df,src_column = 'index',axis=1)"
   ]
  },
  {
   "cell_type": "code",
   "execution_count": null,
   "metadata": {},
   "outputs": [
    {
     "ename": "NameError",
     "evalue": "name 'gdf_pop' is not defined",
     "output_type": "error",
     "traceback": [
      "\u001b[0;31m---------------------------------------------------------------------------\u001b[0m",
      "\u001b[0;31mNameError\u001b[0m                                 Traceback (most recent call last)",
      "\u001b[1;32m/Users/willthompson/Documents/CSDS/MOCS/MOCSFacilityPlacement/fac_place_test.ipynb Cell 6\u001b[0m in \u001b[0;36m<cell line: 1>\u001b[0;34m()\u001b[0m\n\u001b[0;32m----> <a href='vscode-notebook-cell:/Users/willthompson/Documents/CSDS/MOCS/MOCSFacilityPlacement/fac_place_test.ipynb#X11sZmlsZQ%3D%3D?line=0'>1</a>\u001b[0m gdf_pop\u001b[39m.\u001b[39mapply(nearest,geom_union \u001b[39m=\u001b[39m unary_union,df1\u001b[39m=\u001b[39mgdf_pop,df2\u001b[39m=\u001b[39mfac_placements_df)\n",
      "\u001b[0;31mNameError\u001b[0m: name 'gdf_pop' is not defined"
     ]
    }
   ],
   "source": []
  },
  {
   "cell_type": "code",
   "execution_count": null,
   "metadata": {},
   "outputs": [
    {
     "data": {
      "text/html": [
       "<div>\n",
       "<style scoped>\n",
       "    .dataframe tbody tr th:only-of-type {\n",
       "        vertical-align: middle;\n",
       "    }\n",
       "\n",
       "    .dataframe tbody tr th {\n",
       "        vertical-align: top;\n",
       "    }\n",
       "\n",
       "    .dataframe thead th {\n",
       "        text-align: right;\n",
       "    }\n",
       "</style>\n",
       "<table border=\"1\" class=\"dataframe\">\n",
       "  <thead>\n",
       "    <tr style=\"text-align: right;\">\n",
       "      <th></th>\n",
       "      <th>geometry</th>\n",
       "    </tr>\n",
       "  </thead>\n",
       "  <tbody>\n",
       "    <tr>\n",
       "      <th>0</th>\n",
       "      <td>POINT (-74.74201 42.49377)</td>\n",
       "    </tr>\n",
       "    <tr>\n",
       "      <th>1</th>\n",
       "      <td>POINT (-116.96697 40.69209)</td>\n",
       "    </tr>\n",
       "    <tr>\n",
       "      <th>2</th>\n",
       "      <td>POINT (-113.57297 46.65724)</td>\n",
       "    </tr>\n",
       "    <tr>\n",
       "      <th>3</th>\n",
       "      <td>POINT (-68.41258 44.51050)</td>\n",
       "    </tr>\n",
       "    <tr>\n",
       "      <th>4</th>\n",
       "      <td>POINT (-91.54317 34.18865)</td>\n",
       "    </tr>\n",
       "    <tr>\n",
       "      <th>...</th>\n",
       "      <td>...</td>\n",
       "    </tr>\n",
       "    <tr>\n",
       "      <th>95</th>\n",
       "      <td>POINT (-96.87855 36.62089)</td>\n",
       "    </tr>\n",
       "    <tr>\n",
       "      <th>96</th>\n",
       "      <td>POINT (-80.78350 37.18219)</td>\n",
       "    </tr>\n",
       "    <tr>\n",
       "      <th>97</th>\n",
       "      <td>POINT (-97.17643 43.43787)</td>\n",
       "    </tr>\n",
       "    <tr>\n",
       "      <th>98</th>\n",
       "      <td>POINT (-81.15291 26.39950)</td>\n",
       "    </tr>\n",
       "    <tr>\n",
       "      <th>99</th>\n",
       "      <td>POINT (-67.97502 46.08568)</td>\n",
       "    </tr>\n",
       "  </tbody>\n",
       "</table>\n",
       "<p>100 rows × 1 columns</p>\n",
       "</div>"
      ],
      "text/plain": [
       "                       geometry\n",
       "0    POINT (-74.74201 42.49377)\n",
       "1   POINT (-116.96697 40.69209)\n",
       "2   POINT (-113.57297 46.65724)\n",
       "3    POINT (-68.41258 44.51050)\n",
       "4    POINT (-91.54317 34.18865)\n",
       "..                          ...\n",
       "95   POINT (-96.87855 36.62089)\n",
       "96   POINT (-80.78350 37.18219)\n",
       "97   POINT (-97.17643 43.43787)\n",
       "98   POINT (-81.15291 26.39950)\n",
       "99   POINT (-67.97502 46.08568)\n",
       "\n",
       "[100 rows x 1 columns]"
      ]
     },
     "execution_count": 186,
     "metadata": {},
     "output_type": "execute_result"
    }
   ],
   "source": [
    "fac_placements_df"
   ]
  },
  {
   "cell_type": "code",
   "execution_count": null,
   "metadata": {},
   "outputs": [],
   "source": []
  }
 ],
 "metadata": {
  "kernelspec": {
   "display_name": "Python 3.9.12 ('myenv')",
   "language": "python",
   "name": "python3"
  },
  "language_info": {
   "codemirror_mode": {
    "name": "ipython",
    "version": 3
   },
   "file_extension": ".py",
   "mimetype": "text/x-python",
   "name": "python",
   "nbconvert_exporter": "python",
   "pygments_lexer": "ipython3",
   "version": "3.9.12"
  },
  "orig_nbformat": 4,
  "vscode": {
   "interpreter": {
    "hash": "0d2c98a7e82a04c6f96351403223b10150b674f8c2ec0e7600fd11cb811eec5d"
   }
  }
 },
 "nbformat": 4,
 "nbformat_minor": 2
}
